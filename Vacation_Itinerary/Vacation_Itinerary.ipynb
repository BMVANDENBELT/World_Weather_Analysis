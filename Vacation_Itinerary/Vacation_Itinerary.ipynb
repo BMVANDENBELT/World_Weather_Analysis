{
 "cells": [
  {
   "cell_type": "markdown",
   "metadata": {},
   "source": [
    "## Deliverable 3. Create a Travel Itinerary Map."
   ]
  },
  {
   "cell_type": "code",
   "execution_count": 1,
   "metadata": {},
   "outputs": [],
   "source": [
    "# Dependencies and Setup\n",
    "import pandas as pd\n",
    "import requests\n",
    "import gmaps\n",
    "\n",
    "# Import API key\n",
    "from config import g_key\n",
    "\n",
    "# Configure gmaps\n",
    "gmaps.configure(api_key=g_key)"
   ]
  },
  {
   "cell_type": "code",
   "execution_count": 3,
   "metadata": {},
   "outputs": [
    {
     "data": {
      "text/html": [
       "<div>\n",
       "<style scoped>\n",
       "    .dataframe tbody tr th:only-of-type {\n",
       "        vertical-align: middle;\n",
       "    }\n",
       "\n",
       "    .dataframe tbody tr th {\n",
       "        vertical-align: top;\n",
       "    }\n",
       "\n",
       "    .dataframe thead th {\n",
       "        text-align: right;\n",
       "    }\n",
       "</style>\n",
       "<table border=\"1\" class=\"dataframe\">\n",
       "  <thead>\n",
       "    <tr style=\"text-align: right;\">\n",
       "      <th></th>\n",
       "      <th>City_ID</th>\n",
       "      <th>City</th>\n",
       "      <th>Country</th>\n",
       "      <th>Max Temp</th>\n",
       "      <th>Current Description</th>\n",
       "      <th>Lat</th>\n",
       "      <th>Lng</th>\n",
       "      <th>Hotel Name</th>\n",
       "    </tr>\n",
       "  </thead>\n",
       "  <tbody>\n",
       "    <tr>\n",
       "      <th>0</th>\n",
       "      <td>0</td>\n",
       "      <td>Gouyave</td>\n",
       "      <td>GD</td>\n",
       "      <td>84.97</td>\n",
       "      <td>few clouds</td>\n",
       "      <td>12.1646</td>\n",
       "      <td>-61.7296</td>\n",
       "      <td>Rumboat Retreat</td>\n",
       "    </tr>\n",
       "    <tr>\n",
       "      <th>1</th>\n",
       "      <td>2</td>\n",
       "      <td>Kieta</td>\n",
       "      <td>PG</td>\n",
       "      <td>79.70</td>\n",
       "      <td>light rain</td>\n",
       "      <td>-6.2167</td>\n",
       "      <td>155.6333</td>\n",
       "      <td>Uruna Bay Retreat</td>\n",
       "    </tr>\n",
       "    <tr>\n",
       "      <th>2</th>\n",
       "      <td>10</td>\n",
       "      <td>Saint George</td>\n",
       "      <td>US</td>\n",
       "      <td>83.43</td>\n",
       "      <td>broken clouds</td>\n",
       "      <td>37.1041</td>\n",
       "      <td>-113.5841</td>\n",
       "      <td>Best Western Plus Abbey Inn</td>\n",
       "    </tr>\n",
       "    <tr>\n",
       "      <th>3</th>\n",
       "      <td>11</td>\n",
       "      <td>Meulaboh</td>\n",
       "      <td>ID</td>\n",
       "      <td>76.80</td>\n",
       "      <td>broken clouds</td>\n",
       "      <td>4.1363</td>\n",
       "      <td>96.1285</td>\n",
       "      <td>Kost Pria</td>\n",
       "    </tr>\n",
       "    <tr>\n",
       "      <th>4</th>\n",
       "      <td>15</td>\n",
       "      <td>Albany</td>\n",
       "      <td>US</td>\n",
       "      <td>78.44</td>\n",
       "      <td>overcast clouds</td>\n",
       "      <td>42.6001</td>\n",
       "      <td>-73.9662</td>\n",
       "      <td>NaN</td>\n",
       "    </tr>\n",
       "  </tbody>\n",
       "</table>\n",
       "</div>"
      ],
      "text/plain": [
       "   City_ID          City Country  Max Temp Current Description      Lat  \\\n",
       "0        0       Gouyave      GD     84.97          few clouds  12.1646   \n",
       "1        2         Kieta      PG     79.70          light rain  -6.2167   \n",
       "2       10  Saint George      US     83.43       broken clouds  37.1041   \n",
       "3       11      Meulaboh      ID     76.80       broken clouds   4.1363   \n",
       "4       15        Albany      US     78.44     overcast clouds  42.6001   \n",
       "\n",
       "        Lng                   Hotel Name  \n",
       "0  -61.7296              Rumboat Retreat  \n",
       "1  155.6333            Uruna Bay Retreat  \n",
       "2 -113.5841  Best Western Plus Abbey Inn  \n",
       "3   96.1285                    Kost Pria  \n",
       "4  -73.9662                          NaN  "
      ]
     },
     "execution_count": 3,
     "metadata": {},
     "output_type": "execute_result"
    }
   ],
   "source": [
    "# 1. Read the WeatherPy_vacation.csv into a DataFrame.\n",
    "vacation_df = pd.read_csv(\"Vacation_Search/WeatherPy_vacation.csv\")\n",
    "vacation_df.head()"
   ]
  },
  {
   "cell_type": "code",
   "execution_count": 26,
   "metadata": {},
   "outputs": [
    {
     "data": {
      "text/plain": [
       "array(['Gouyave', 'Kieta', 'Saint George', 'Meulaboh', 'Albany', 'Bethel',\n",
       "       'Puerto Ayora', 'Jamestown', 'San Cristobal', 'Kushima',\n",
       "       'Cockburn Town', 'Puerto Colombia', 'Faanui', 'Georgetown',\n",
       "       'Bandarbeyla', 'Diamantino', 'Atuona', 'Mitsamiouli', 'Reriutaba',\n",
       "       'Kuching', 'Bamnet Narong', 'Mabaruma', 'Arraial Do Cabo',\n",
       "       'Butaritari', 'Wilmington', 'Port Arthur', 'Hilo', 'Tarauaca',\n",
       "       'Lodwar', 'Ribeira Grande', 'Sao Filipe', 'Kapaa', 'Harper',\n",
       "       'Breznita-Motru', 'Sibolga', 'Galle', 'Olinda', 'Kinshasa',\n",
       "       'Medicine Hat', 'Quang Ngai', 'Port Blair', 'Tuscaloosa',\n",
       "       'Pacific Grove', 'Hobyo', 'Miranda', 'Asyut', 'Lorengau', 'Camalu',\n",
       "       'Touros', 'Havelock', 'Jinxiang', 'Guerrero Negro', 'Balikpapan',\n",
       "       'Hirara', 'Hithadhoo', 'Katghora', 'Vermilion', 'Ninh Binh',\n",
       "       'Vila Velha', 'Lalmohan', 'Pasighat', 'Ixtapa', 'Eydhafushi',\n",
       "       'Nagua', 'Hamilton', 'Bousse', 'Alamosa', 'Umm Lajj', 'Tura',\n",
       "       'Mahina', 'Beaverlodge', 'Papara', 'Samarai', 'Paciran', 'Najran',\n",
       "       'Broome', 'Dorado', 'Camopi', 'Nha Trang', 'Nicoya', 'Auki',\n",
       "       'Port-Gentil', 'Porto Novo', 'Maneadero', 'The Valley', 'Pauini',\n",
       "       'Cabo San Lucas', 'Bensonville', 'Norman Wells', 'Evanston',\n",
       "       'Kahului', 'Golfito', 'Lincoln', 'Tamiahua', 'Limbuhan',\n",
       "       'Uniontown', 'Meadow Lake', 'Ligayan', 'Macheng', 'Thongwa',\n",
       "       'Sao Joao Da Barra', 'Puro', 'Rudsar', 'Santa Isabel Do Rio Negro',\n",
       "       'Cabra', 'Acapulco', 'Salinopolis', 'Uthal', 'Victoria', 'Vaitape',\n",
       "       'Pundaguitan', 'Sorong', 'Astoria', 'Ishigaki', 'Amberley',\n",
       "       'Cortland', 'Luganville', 'Brigantine', 'Tomatlan', 'Ravar',\n",
       "       'Kavaratti', 'Sola', 'Hambantota', 'Nouadhibou', 'Kavieng',\n",
       "       'Salalah', 'Dakar', 'Puerto Ayacucho', 'Moose Factory', 'Misratah',\n",
       "       'Adrar', 'Bairiki', 'Keta', 'Shenjiamen', 'Elizabeth City',\n",
       "       'Benghazi', 'La Asuncion', 'Ierapetra', 'Houma', 'Limbang',\n",
       "       'Dalbandin', 'Tezu', 'Sur', 'Lamar', 'Ugoofaaru', 'Todos Santos',\n",
       "       'Dingle', 'Vila Do Maio', 'Simdega', 'Uruacu', 'Binzhou',\n",
       "       'Cururupu', 'Manta', 'Labuhan', 'Valleyview', 'Namatanai',\n",
       "       'Aitape', 'Tahta', 'Durant', 'Katsuura', 'Ponnani', 'Bathsheba',\n",
       "       'Kimbe', 'Naze', 'Kralendijk', 'Duluth', 'Tuburan', 'Natchez',\n",
       "       'Rock Springs', 'Makat', 'Dhidhdhoo', 'Mastic Beach', 'Portel',\n",
       "       'Ganzhou', 'Pierre', 'Hay River', 'Diffa', 'Verkhniy Baskunchak',\n",
       "       'Pangoa', 'Aquiraz', 'Bridgetown', 'Morros', 'Marsh Harbour',\n",
       "       'Sumter', 'Ariquemes', 'Itoman', 'Matara', 'Oistins',\n",
       "       'Mamallapuram', 'Manono', 'Hobbs', 'Camocim', 'Whitecourt',\n",
       "       'Forestville', 'Benjamin Constant', 'Amapa', 'Booue', 'Deoband',\n",
       "       'Sioux Lookout', 'Villa Union', 'Carberry', 'Hopkinsville',\n",
       "       'Abu Samrah', 'Veraval', 'Concepcion Del Oro', 'Angul',\n",
       "       'Saint Anthony', 'Turayf', 'Sai Buri', 'Gizo', 'Sulangan',\n",
       "       'Piaseczno', 'Wanning', 'Carutapera', 'Durango', 'Malkangiri',\n",
       "       'Bontang', 'Tutoia', 'Inirida', 'Aden', 'Taybad', 'Fukue',\n",
       "       'Kantunilkin', 'Praia', 'Mitchell', 'Awjilah', 'Vilhena',\n",
       "       'Pitimbu', 'Carlyle', 'Kamyshin', 'Mae Ramat', 'Kaka', 'Atar'],\n",
       "      dtype=object)"
      ]
     },
     "execution_count": 26,
     "metadata": {},
     "output_type": "execute_result"
    }
   ],
   "source": [
    "vacation_df.City.to_numpy()"
   ]
  },
  {
   "cell_type": "code",
   "execution_count": 4,
   "metadata": {},
   "outputs": [],
   "source": [
    "# 2. Using the template add the city name, the country code, the weather description and maximum temperature for the city.\n",
    "info_box_template = \"\"\"\n",
    "<dl>\n",
    "<dt>Hotel Name</dt><dd>{Hotel Name}</dd>\n",
    "<dt>City</dt><dd>{City}</dd>\n",
    "<dt>Country</dt><dd>{Country}</dd>\n",
    "<dt>Weather Description</dt><dd>{Current Description}</dd>\n",
    "<dt>Max Temp</dt><dd>{Max Temp}</dd>\n",
    "</dl>\n",
    "\"\"\"\n",
    "\n",
    "# 3a. Get the data from each row and add it to the formatting template and store the data in a list.\n",
    "hotel_info = [info_box_template.format(**row) for index, row in vacation_df.iterrows()]\n",
    "\n",
    "# 3b. Get the latitude and longitude from each row and store in a new DataFrame.\n",
    "locations = vacation_df[[\"Lat\", \"Lng\"]]"
   ]
  },
  {
   "cell_type": "code",
   "execution_count": 5,
   "metadata": {},
   "outputs": [
    {
     "data": {
      "application/vnd.jupyter.widget-view+json": {
       "model_id": "d2b86af3fb66450d9c08b388bbabb585",
       "version_major": 2,
       "version_minor": 0
      },
      "text/plain": [
       "Figure(layout=FigureLayout(height='420px'))"
      ]
     },
     "metadata": {},
     "output_type": "display_data"
    }
   ],
   "source": [
    "# 4a. Add a marker layer for each city to the map.\n",
    "marker_layer = gmaps.marker_layer(locations, info_box_content=hotel_info)\n",
    "# 4b. Display the figure\n",
    "fig = gmaps.figure(center=(30.0, 31.0), zoom_level=1.4)\n",
    "fig.add_layer(marker_layer)\n",
    "fig\n"
   ]
  },
  {
   "cell_type": "code",
   "execution_count": 27,
   "metadata": {},
   "outputs": [],
   "source": [
    "# From the map above pick 4 cities and create a vacation itinerary route to travel between the four cities. \n",
    "# 5. Create DataFrames for each city by filtering the 'vacation_df' using the loc method. \n",
    "# Hint: The starting and ending city should be the same city.\n",
    "\n",
    "starting_city = \"Sumter\"\n",
    "ending_city = \"Sumter\"\n",
    "stop_1 = \"Tuscaloosa\"\n",
    "stop_2 = \"Forestville\"\n",
    "stop_3 = \"Pacific Grove\"\n",
    "\n",
    "vacation_start = vacation_df.loc[vacation_df[\"City\"] == starting_city]\n",
    "vacation_end = vacation_df.loc[vacation_df[\"City\"] == ending_city]\n",
    "vacation_stop1 = vacation_df.loc[vacation_df[\"City\"] == stop_1]\n",
    "vacation_stop2 = vacation_df.loc[vacation_df[\"City\"] == stop_2] \n",
    "vacation_stop3 = vacation_df.loc[vacation_df[\"City\"] == stop_3] "
   ]
  },
  {
   "cell_type": "code",
   "execution_count": 29,
   "metadata": {},
   "outputs": [],
   "source": [
    "# 6. Get the latitude-longitude pairs as tuples from each city DataFrame using the to_numpy function and list indexing.\n",
    "start = vacation_start[[\"Lat\", \"Lng\"]].to_numpy()[0]\n",
    "end = vacation_end[[\"Lat\", \"Lng\"]].to_numpy()[0]\n",
    "stop1 = vacation_stop1[[\"Lat\", \"Lng\"]].to_numpy()[0]\n",
    "stop2 = vacation_stop2[[\"Lat\", \"Lng\"]].to_numpy()[0]\n",
    "stop3 = vacation_stop3[[\"Lat\", \"Lng\"]].to_numpy()[0]"
   ]
  },
  {
   "cell_type": "code",
   "execution_count": 30,
   "metadata": {
    "scrolled": true
   },
   "outputs": [
    {
     "data": {
      "application/vnd.jupyter.widget-view+json": {
       "model_id": "1ec8fc1f37714c50b612912de729f8f1",
       "version_major": 2,
       "version_minor": 0
      },
      "text/plain": [
       "Figure(layout=FigureLayout(height='420px'))"
      ]
     },
     "metadata": {},
     "output_type": "display_data"
    }
   ],
   "source": [
    "# 7. Create a direction layer map using the start and end latitude-longitude pairs,\n",
    "# and stop1, stop2, and stop3 as the waypoints. The travel_mode should be \"DRIVING\", \"BICYCLING\", or \"WALKING\".\n",
    "fig = gmaps.figure()\n",
    "vacation_route = gmaps.directions_layer(start, end, waypoints=[stop1,stop2,stop3], \n",
    "                                      travel_mode=\"DRIVING\" or \"BICYCLING\" or \"WALKING\")\n",
    "fig.add_layer(vacation_route)\n",
    "fig\n"
   ]
  },
  {
   "cell_type": "code",
   "execution_count": 32,
   "metadata": {},
   "outputs": [
    {
     "data": {
      "text/html": [
       "<div>\n",
       "<style scoped>\n",
       "    .dataframe tbody tr th:only-of-type {\n",
       "        vertical-align: middle;\n",
       "    }\n",
       "\n",
       "    .dataframe tbody tr th {\n",
       "        vertical-align: top;\n",
       "    }\n",
       "\n",
       "    .dataframe thead th {\n",
       "        text-align: right;\n",
       "    }\n",
       "</style>\n",
       "<table border=\"1\" class=\"dataframe\">\n",
       "  <thead>\n",
       "    <tr style=\"text-align: right;\">\n",
       "      <th></th>\n",
       "      <th>City_ID</th>\n",
       "      <th>City</th>\n",
       "      <th>Country</th>\n",
       "      <th>Max Temp</th>\n",
       "      <th>Current Description</th>\n",
       "      <th>Lat</th>\n",
       "      <th>Lng</th>\n",
       "      <th>Hotel Name</th>\n",
       "    </tr>\n",
       "  </thead>\n",
       "  <tbody>\n",
       "    <tr>\n",
       "      <th>0</th>\n",
       "      <td>530</td>\n",
       "      <td>Sumter</td>\n",
       "      <td>US</td>\n",
       "      <td>78.75</td>\n",
       "      <td>broken clouds</td>\n",
       "      <td>28.7086</td>\n",
       "      <td>-82.0831</td>\n",
       "      <td>Paradise Oaks RV Resort</td>\n",
       "    </tr>\n",
       "    <tr>\n",
       "      <th>1</th>\n",
       "      <td>148</td>\n",
       "      <td>Tuscaloosa</td>\n",
       "      <td>US</td>\n",
       "      <td>85.05</td>\n",
       "      <td>clear sky</td>\n",
       "      <td>33.2098</td>\n",
       "      <td>-87.5692</td>\n",
       "      <td>Hampton Inn Tuscaloosa-University</td>\n",
       "    </tr>\n",
       "    <tr>\n",
       "      <th>2</th>\n",
       "      <td>557</td>\n",
       "      <td>Forestville</td>\n",
       "      <td>US</td>\n",
       "      <td>87.22</td>\n",
       "      <td>clear sky</td>\n",
       "      <td>38.8451</td>\n",
       "      <td>-76.8750</td>\n",
       "      <td>Quality Inn Near Joint Base Andrews-Washington...</td>\n",
       "    </tr>\n",
       "    <tr>\n",
       "      <th>3</th>\n",
       "      <td>151</td>\n",
       "      <td>Pacific Grove</td>\n",
       "      <td>US</td>\n",
       "      <td>81.39</td>\n",
       "      <td>clear sky</td>\n",
       "      <td>36.6177</td>\n",
       "      <td>-121.9166</td>\n",
       "      <td>Lovers Point Inn</td>\n",
       "    </tr>\n",
       "    <tr>\n",
       "      <th>4</th>\n",
       "      <td>530</td>\n",
       "      <td>Sumter</td>\n",
       "      <td>US</td>\n",
       "      <td>78.75</td>\n",
       "      <td>broken clouds</td>\n",
       "      <td>28.7086</td>\n",
       "      <td>-82.0831</td>\n",
       "      <td>Paradise Oaks RV Resort</td>\n",
       "    </tr>\n",
       "  </tbody>\n",
       "</table>\n",
       "</div>"
      ],
      "text/plain": [
       "   City_ID           City Country  Max Temp Current Description      Lat  \\\n",
       "0      530         Sumter      US     78.75       broken clouds  28.7086   \n",
       "1      148     Tuscaloosa      US     85.05           clear sky  33.2098   \n",
       "2      557    Forestville      US     87.22           clear sky  38.8451   \n",
       "3      151  Pacific Grove      US     81.39           clear sky  36.6177   \n",
       "4      530         Sumter      US     78.75       broken clouds  28.7086   \n",
       "\n",
       "        Lng                                         Hotel Name  \n",
       "0  -82.0831                            Paradise Oaks RV Resort  \n",
       "1  -87.5692                  Hampton Inn Tuscaloosa-University  \n",
       "2  -76.8750  Quality Inn Near Joint Base Andrews-Washington...  \n",
       "3 -121.9166                                   Lovers Point Inn  \n",
       "4  -82.0831                            Paradise Oaks RV Resort  "
      ]
     },
     "execution_count": 32,
     "metadata": {},
     "output_type": "execute_result"
    }
   ],
   "source": [
    "# 8. To create a marker layer map between the four cities.\n",
    "#  Combine the four city DataFrames into one DataFrame using the concat() function.\n",
    "itinerary_df = pd.concat([vacation_start, vacation_stop1, vacation_stop2, vacation_stop3, vacation_end],ignore_index=True)\n",
    "itinerary_df"
   ]
  },
  {
   "cell_type": "code",
   "execution_count": 33,
   "metadata": {},
   "outputs": [],
   "source": [
    "## 9 Using the template add city name, the country code, the weather description and maximum temperature for the city. \n",
    "info_box_template = \"\"\"\n",
    "<dl>\n",
    "<dt>Hotel Name</dt><dd>{Hotel Name}</dd>\n",
    "<dt>City</dt><dd>{City}</dd>\n",
    "<dt>Country</dt><dd>{Country}</dd>\n",
    "<dt>Weather Description</dt><dd>{Current Description}</dd>\n",
    "<dt>Max Temp</dt><dd>{Max Temp}</dd>\n",
    "</dl>\n",
    "\"\"\"\n",
    "\n",
    "# 10a Get the data from each row and add it to the formatting template and store the data in a list.\n",
    "hotel_info = [info_box_template.format(**row) for index, row in itinerary_df.iterrows()]\n",
    "\n",
    "# 10b. Get the latitude and longitude from each row and store in a new DataFrame.\n",
    "locations = itinerary_df[[\"Lat\", \"Lng\"]]"
   ]
  },
  {
   "cell_type": "code",
   "execution_count": 34,
   "metadata": {},
   "outputs": [
    {
     "data": {
      "application/vnd.jupyter.widget-view+json": {
       "model_id": "2cd1c1419f3842419e8557fd975295e5",
       "version_major": 2,
       "version_minor": 0
      },
      "text/plain": [
       "Figure(layout=FigureLayout(height='420px'))"
      ]
     },
     "metadata": {},
     "output_type": "display_data"
    }
   ],
   "source": [
    "# 11a. Add a marker layer for each city to the map.\n",
    "marker_layer = gmaps.marker_layer(locations, info_box_content=hotel_info)\n",
    "# 11b. Display the figure\n",
    "fig = gmaps.figure(center=(30.0, 31.0), zoom_level=1.4)\n",
    "fig.add_layer(marker_layer)\n",
    "fig"
   ]
  },
  {
   "cell_type": "code",
   "execution_count": null,
   "metadata": {},
   "outputs": [],
   "source": []
  }
 ],
 "metadata": {
  "kernelspec": {
   "display_name": "Python 3 (ipykernel)",
   "language": "python",
   "name": "python3"
  },
  "language_info": {
   "codemirror_mode": {
    "name": "ipython",
    "version": 3
   },
   "file_extension": ".py",
   "mimetype": "text/x-python",
   "name": "python",
   "nbconvert_exporter": "python",
   "pygments_lexer": "ipython3",
   "version": "3.9.12"
  },
  "latex_envs": {
   "LaTeX_envs_menu_present": true,
   "autoclose": false,
   "autocomplete": true,
   "bibliofile": "biblio.bib",
   "cite_by": "apalike",
   "current_citInitial": 1,
   "eqLabelWithNumbers": true,
   "eqNumInitial": 1,
   "hotkeys": {
    "equation": "Ctrl-E",
    "itemize": "Ctrl-I"
   },
   "labels_anchors": false,
   "latex_user_defs": false,
   "report_style_numbering": false,
   "user_envs_cfg": false
  }
 },
 "nbformat": 4,
 "nbformat_minor": 2
}
